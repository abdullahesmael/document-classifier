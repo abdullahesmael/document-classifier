{
 "cells": [
  {
   "cell_type": "markdown",
   "metadata": {},
   "source": [
    "# Documement Classifier"
   ]
  },
  {
   "cell_type": "markdown",
   "metadata": {},
   "source": [
    "## Imports"
   ]
  },
  {
   "cell_type": "code",
   "execution_count": 9,
   "metadata": {},
   "outputs": [
    {
     "name": "stdout",
     "output_type": "stream",
     "text": [
      "Data Shape: (131565, 5)\n"
     ]
    },
    {
     "data": {
      "text/html": [
       "<div>\n",
       "<style scoped>\n",
       "    .dataframe tbody tr th:only-of-type {\n",
       "        vertical-align: middle;\n",
       "    }\n",
       "\n",
       "    .dataframe tbody tr th {\n",
       "        vertical-align: top;\n",
       "    }\n",
       "\n",
       "    .dataframe thead th {\n",
       "        text-align: right;\n",
       "    }\n",
       "</style>\n",
       "<table border=\"1\" class=\"dataframe\">\n",
       "  <thead>\n",
       "    <tr style=\"text-align: right;\">\n",
       "      <th></th>\n",
       "      <th>ID</th>\n",
       "      <th>Date</th>\n",
       "      <th>Title</th>\n",
       "      <th>Abstract</th>\n",
       "      <th>Subject_area</th>\n",
       "    </tr>\n",
       "  </thead>\n",
       "  <tbody>\n",
       "    <tr>\n",
       "      <th>0</th>\n",
       "      <td>0912.5014v1</td>\n",
       "      <td>26/12/2009</td>\n",
       "      <td>A User's Guide to Zot</td>\n",
       "      <td>Zot is an agile and easily extendible bounded ...</td>\n",
       "      <td>LO</td>\n",
       "    </tr>\n",
       "    <tr>\n",
       "      <th>1</th>\n",
       "      <td>0910.0820v2</td>\n",
       "      <td>05/10/2009</td>\n",
       "      <td>Prediction of Zoonosis Incidence in Human usin...</td>\n",
       "      <td>Zoonosis refers to the transmission of infecti...</td>\n",
       "      <td>LG</td>\n",
       "    </tr>\n",
       "    <tr>\n",
       "      <th>2</th>\n",
       "      <td>1505.01933v1</td>\n",
       "      <td>08/05/2015</td>\n",
       "      <td>Wireless Multicast for Zoomable Video Streaming</td>\n",
       "      <td>Zoomable video streaming refers to a new class...</td>\n",
       "      <td>NI</td>\n",
       "    </tr>\n",
       "    <tr>\n",
       "      <th>3</th>\n",
       "      <td>1512.02794v2</td>\n",
       "      <td>09/12/2015</td>\n",
       "      <td>On Computing the Minkowski Difference of Zonot...</td>\n",
       "      <td>Zonotopes are becoming an increasingly popular...</td>\n",
       "      <td>CG</td>\n",
       "    </tr>\n",
       "    <tr>\n",
       "      <th>4</th>\n",
       "      <td>cs_0701171v1</td>\n",
       "      <td>26/01/2007</td>\n",
       "      <td>The Zones Algorithm for Finding Points-Near-a-...</td>\n",
       "      <td>Zones index an N-dimensional Euclidian or metr...</td>\n",
       "      <td>DB</td>\n",
       "    </tr>\n",
       "  </tbody>\n",
       "</table>\n",
       "</div>"
      ],
      "text/plain": [
       "             ID        Date  \\\n",
       "0   0912.5014v1  26/12/2009   \n",
       "1   0910.0820v2  05/10/2009   \n",
       "2  1505.01933v1  08/05/2015   \n",
       "3  1512.02794v2  09/12/2015   \n",
       "4  cs_0701171v1  26/01/2007   \n",
       "\n",
       "                                               Title  \\\n",
       "0                              A User's Guide to Zot   \n",
       "1  Prediction of Zoonosis Incidence in Human usin...   \n",
       "2    Wireless Multicast for Zoomable Video Streaming   \n",
       "3  On Computing the Minkowski Difference of Zonot...   \n",
       "4  The Zones Algorithm for Finding Points-Near-a-...   \n",
       "\n",
       "                                            Abstract Subject_area  \n",
       "0  Zot is an agile and easily extendible bounded ...           LO  \n",
       "1  Zoonosis refers to the transmission of infecti...           LG  \n",
       "2  Zoomable video streaming refers to a new class...           NI  \n",
       "3  Zonotopes are becoming an increasingly popular...           CG  \n",
       "4  Zones index an N-dimensional Euclidian or metr...           DB  "
      ]
     },
     "execution_count": 9,
     "metadata": {},
     "output_type": "execute_result"
    }
   ],
   "source": [
    "from matplotlib import pyplot as plt\n",
    "import seaborn as sns\n",
    "import numpy as np \n",
    "import pandas as pd\n",
    "from sklearn.ensemble import RandomForestClassifier as rfc\n",
    "from IPython.display import display\n",
    "df = pd.read_csv('datasets/arxiv2017.csv',delimiter=';')\n",
    "print('Data Shape:' , df.shape)\n",
    "df.head()"
   ]
  },
  {
   "cell_type": "markdown",
   "metadata": {},
   "source": [
    "## Pre-processing & Exploration"
   ]
  },
  {
   "cell_type": "code",
   "execution_count": 16,
   "metadata": {},
   "outputs": [
    {
     "data": {
      "text/plain": [
       "ID                0\n",
       "Date              0\n",
       "Title             0\n",
       "Abstract          1\n",
       "Subject_area    894\n",
       "dtype: int64"
      ]
     },
     "metadata": {},
     "output_type": "display_data"
    }
   ],
   "source": [
    "display(df.isna().sum())\n",
    "df = df.dropna()"
   ]
  },
  {
   "cell_type": "code",
   "execution_count": 20,
   "metadata": {},
   "outputs": [
    {
     "data": {
      "text/html": [
       "<div>\n",
       "<style scoped>\n",
       "    .dataframe tbody tr th:only-of-type {\n",
       "        vertical-align: middle;\n",
       "    }\n",
       "\n",
       "    .dataframe tbody tr th {\n",
       "        vertical-align: top;\n",
       "    }\n",
       "\n",
       "    .dataframe thead th {\n",
       "        text-align: right;\n",
       "    }\n",
       "</style>\n",
       "<table border=\"1\" class=\"dataframe\">\n",
       "  <thead>\n",
       "    <tr style=\"text-align: right;\">\n",
       "      <th></th>\n",
       "      <th>ID</th>\n",
       "      <th>Date</th>\n",
       "      <th>Title</th>\n",
       "      <th>Abstract</th>\n",
       "      <th>Subject_area</th>\n",
       "    </tr>\n",
       "  </thead>\n",
       "  <tbody>\n",
       "    <tr>\n",
       "      <th>count</th>\n",
       "      <td>130670</td>\n",
       "      <td>130670</td>\n",
       "      <td>130670</td>\n",
       "      <td>130670</td>\n",
       "      <td>130670</td>\n",
       "    </tr>\n",
       "    <tr>\n",
       "      <th>unique</th>\n",
       "      <td>130670</td>\n",
       "      <td>6169</td>\n",
       "      <td>130452</td>\n",
       "      <td>130491</td>\n",
       "      <td>39</td>\n",
       "    </tr>\n",
       "    <tr>\n",
       "      <th>top</th>\n",
       "      <td>1708.03760v2</td>\n",
       "      <td>27/03/2013</td>\n",
       "      <td>Automorphism Groups of Graphical Models and Li...</td>\n",
       "      <td>This paper has been withdrawn by the author.</td>\n",
       "      <td>IT</td>\n",
       "    </tr>\n",
       "    <tr>\n",
       "      <th>freq</th>\n",
       "      <td>1</td>\n",
       "      <td>323</td>\n",
       "      <td>2</td>\n",
       "      <td>8</td>\n",
       "      <td>19115</td>\n",
       "    </tr>\n",
       "  </tbody>\n",
       "</table>\n",
       "</div>"
      ],
      "text/plain": [
       "                  ID        Date  \\\n",
       "count         130670      130670   \n",
       "unique        130670        6169   \n",
       "top     1708.03760v2  27/03/2013   \n",
       "freq               1         323   \n",
       "\n",
       "                                                    Title  \\\n",
       "count                                              130670   \n",
       "unique                                             130452   \n",
       "top     Automorphism Groups of Graphical Models and Li...   \n",
       "freq                                                    2   \n",
       "\n",
       "                                            Abstract Subject_area  \n",
       "count                                         130670       130670  \n",
       "unique                                        130491           39  \n",
       "top     This paper has been withdrawn by the author.           IT  \n",
       "freq                                               8        19115  "
      ]
     },
     "execution_count": 20,
     "metadata": {},
     "output_type": "execute_result"
    }
   ],
   "source": [
    "df.describe()"
   ]
  },
  {
   "cell_type": "code",
   "execution_count": null,
   "metadata": {},
   "outputs": [],
   "source": []
  }
 ],
 "metadata": {
  "kernelspec": {
   "display_name": "Python 3",
   "language": "python",
   "name": "python3"
  },
  "language_info": {
   "codemirror_mode": {
    "name": "ipython",
    "version": 3
   },
   "file_extension": ".py",
   "mimetype": "text/x-python",
   "name": "python",
   "nbconvert_exporter": "python",
   "pygments_lexer": "ipython3",
   "version": "3.8.5"
  }
 },
 "nbformat": 4,
 "nbformat_minor": 4
}
